{
 "cells": [
  {
   "cell_type": "code",
   "execution_count": 5,
   "id": "a19f58ab",
   "metadata": {},
   "outputs": [],
   "source": [
    "from os import getenv\n",
    "from dotenv import load_dotenv\n",
    "load_dotenv()"
   ]
  },
  {
   "cell_type": "code",
   "execution_count": null,
   "id": "338fb782",
   "metadata": {},
   "outputs": [],
   "source": [
    "# artist calendar\n",
    "artist_id=\"\"\n",
    "api_key=getenv(\"SONGKICK_API_KEY\")\n",
    "endpoint_artist = f\"artists/{artist_id}/calendar.json?apikey={api_key}\"\n",
    "url = f\"https://api.songkick.com/api/3.0/{endpoint_artist}\"\n",
    "venue_id=\"\"\n",
    "endpoint_venue = f\"venues/{venue_id}/calendar.json?apikey={api_key}\"\n",
    "url = f\"https://api.songkick.com/api/3.0/{endpoint_venue}\"\n",
    "\n",
    "# url = f\"https://api.songkick.com/api/3.0/{}/{}/calendar.json?apikey={api_key}\""
   ]
  }
 ],
 "metadata": {
  "kernelspec": {
   "display_name": "Python 3 (ipykernel)",
   "language": "python",
   "name": "python3"
  },
  "language_info": {
   "codemirror_mode": {
    "name": "ipython",
    "version": 3
   },
   "file_extension": ".py",
   "mimetype": "text/x-python",
   "name": "python",
   "nbconvert_exporter": "python",
   "pygments_lexer": "ipython3",
   "version": "3.8.5"
  }
 },
 "nbformat": 4,
 "nbformat_minor": 5
}
